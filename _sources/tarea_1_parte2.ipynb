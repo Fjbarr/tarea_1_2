{
 "cells": [
  {
   "cell_type": "markdown",
   "metadata": {},
   "source": [
    "## Revisión de la Literatura: Modelos de Predicción para el Precio del Oro\n",
    "\n",
    "### Introducción\n",
    "En este análisis, se hizo una revision de algunos de los modelos de series de tiempo que han sido utilizados para predecir los precios del oro. Al ser un mercado volátil y dependiente de múltiples factores, se han utilizado diversos enfoques, desde los modelos más tradicionales hasta técnicas avanzadas como redes neuronales. A continuación, veremos cuáles son los modelos más comunes y aquellos que ofrecen mejoras en la precisión de las predicciones.\n",
    "\n",
    "### Definir el área de estudio\n",
    "El objetivo principal de este trabajo es analizar cómo se comporta el precio del oro a lo largo del tiempo utilizando modelos de series de tiempo. En términos más generales, podríamos decir que el enfoque es la predicción del precio del oro a partir de modelos de series de tiempo.\n",
    "\n",
    "### Lista 1: Modelos Comúnmente Utilizados\n",
    "\n",
    "#### 1. **ARIMA (AutoRegressive Integrated Moving Average)**\n",
    "- **Practicidad**: ARIMA es uno de los modelos más utilizados en finanzas por su capacidad para identificar tendencias y patrones estacionales. Sin embargo, su efectividad depende de que los datos sean estacionarios, lo que a veces requiere un preprocesamiento adicional.\n",
    "- **Factibilidad**: Es un método práctico para predicciones a corto plazo y es fácil de implementar. Sin embargo, en mercados tan volátiles como el oro, puede tener limitaciones cuando se busca precisión a largo plazo. **Guha y Bandyopadhyay (2016)** lo utilizaron para predecir precios a corto plazo.\n",
    "\n",
    "#### 2. **SVR (Support Vector Regression)**\n",
    "- **Practicidad**: SVR es una herramienta potente para manejar relaciones no lineales, algo común en la predicción de precios. Sin embargo, ajustar los parámetros correctos puede ser complicado y requiere una buena comprensión del modelo.\n",
    "- **Factibilidad**: Es muy útil en situaciones donde los datos no siguen una tendencia clara. **Dubey (2016)** combinó SVR con ANFIS para predecir los precios del oro, logrando resultados positivos.\n",
    "\n",
    "#### 3. **Holt-Winters (Suavización Exponencial)**\n",
    "- **Practicidad**: Este método es muy eficiente cuando se trata de datos con estacionalidad clara. Su uso es sencillo y puede adaptarse bien a patrones cíclicos.\n",
    "- **Factibilidad**: Aunque es ideal para predicciones a corto plazo, puede no ser la mejor opción cuando los datos muestran grandes fluctuaciones a largo plazo, como ocurre en los precios del oro.\n",
    "\n",
    "#### 4. **Modelos Neuro-Fuzzy**\n",
    "- **Practicidad**: Los modelos neuro-fuzzy son útiles en situaciones donde los datos contienen incertidumbre o no están completos. **Salis et al. (2019)** utilizaron el modelo ANFIS para predecir precios del mercado del oro, mostrando que estos modelos pueden manejar la complejidad de este tipo de datos.\n",
    "- **Factibilidad**: Son más complejos de implementar, pero pueden ser muy efectivos cuando se trabaja con mercados altamente volátiles.\n",
    "\n",
    "### Lista 2: Modelos Mejorados para Predicciones más Precisas\n",
    "\n",
    "#### 1. **LSTM (Long Short-Term Memory Networks)**\n",
    "- **Practicidad**: LSTM es una red neuronal recurrente que destaca por su capacidad de captar patrones a largo plazo en datos secuenciales. Aunque su implementación es más compleja que la de los modelos tradicionales, es ideal para manejar datos volátiles y con dependencias a largo plazo, como el oro.\n",
    "- **Factibilidad**: Ofrece una mejora significativa en la precisión a cambio de un mayor costo computacional. **Livieris (2020)** demostró que LSTM es particularmente efectivo en la predicción de datos financieros.\n",
    "\n",
    "#### 2. **CNN-LSTM (Convolutional Neural Networks + LSTM)**\n",
    "- **Practicidad**: Este modelo híbrido combina CNN para extraer características y LSTM para manejar la secuencialidad de los datos. Esto lo convierte en una opción poderosa para datos complejos, pero requiere una infraestructura computacional considerable.\n",
    "- **Factibilidad**: **Jianwei et al. (2019)** demostraron que CNN-LSTM puede superar a los modelos tradicionales como ARIMA y SVR en la predicción de variables finacieras, mejorando métricas como el MAE y el RMSE.\n",
    "\n",
    "#### 3. **Random Forest**\n",
    "- **Practicidad**: Random Forest es un modelo de ensamble que puede manejar grandes cantidades de datos y detectar patrones complejos. Aunque es más fácil de implementar que los modelos neuronales, no maneja tan bien la secuencialidad de los datos como LSTM.\n",
    "- **Factibilidad**: **Liu y Li (2017)** demostraron que Random Forest es robusto para la predicción de precios del oro, pero su capacidad para manejar secuencias temporales es limitada en comparación con los modelos de redes neuronales.\n",
    "\n",
    "### Comparación de las Listas y Selección del Modelo\n",
    "Al comparar ambos grupos de modelos, se puede ver que modelos como el **CNN-LSTM** o **LSTM** ofrecen una ventaja significativa sobre los métodos tradicionales. Estos modelos no solo capturan patrones complejos, sino que también manejan de manera eficiente la secuencialidad de los datos. Esto los convierte en una opción excelente para proyectos que buscan alta precisión en mercados volátiles como el del oro.\n",
    "\n",
    "### Conclusión\n",
    "En resumen, aunque los modelos tradicionales como **ARIMA** y **SVR** son útiles para predicciones rápidas y análisis de corto plazo, los modelos avanzados como **LSTM** y **CNN-LSTM** ofrecen mejoras significativas en la precisión, especialmente en datos más complejos. Sin embargo, estas mejoras vienen acompañadas de una mayor demanda computacional, lo que debe considerarse al seleccionar un modelo para la predicción de precios del oro.\n",
    "\n",
    "### Referencias\n",
    "1. Guha B, Bandyopadhyay G. (2016). Gold price forecasting using ARIMA model. J Adv Manag Sci.\n",
    "2. Dubey AD. (2016). Gold price prediction using support vector regression and ANFIS models. In: 2016 International conference on computer communication and informatics (ICCCI), IEEE.\n",
    "3. Livieris IE. (2020). An advanced active set L-BFGS algorithm for training weight-constrained neural networks. Neural Comput Appl.\n",
    "4. Jianwei E, Ye J, Jin H. (2019). A novel hybrid model on the prediction of time series and its application for the gold price analysis and forecasting. Phys A.\n",
    "5. Liu D, Li Z. (2017). Gold price forecasting and related influence factors analysis based on random forest.\n"
   ]
  }
 ],
 "metadata": {
  "language_info": {
   "name": "python"
  }
 },
 "nbformat": 4,
 "nbformat_minor": 2
}
